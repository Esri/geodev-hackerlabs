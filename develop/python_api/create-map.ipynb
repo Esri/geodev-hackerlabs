{
 "cells": [
  {
   "cell_type": "code",
   "execution_count": 5,
   "metadata": {},
   "outputs": [
    {
     "data": {
      "application/vnd.jupyter.widget-view+json": {
       "model_id": "b910fba138474da48e914eaeeb4f8fc6"
      }
     },
     "metadata": {},
     "output_type": "display_data"
    }
   ],
   "source": [
    "from arcgis.gis import GIS\n",
    "my_gis = GIS()\n",
    "map = my_gis.map()\n",
    "map"
   ]
  },
  {
   "cell_type": "code",
   "execution_count": 6,
   "metadata": {},
   "outputs": [
    {
     "name": "stdout",
     "output_type": "stream",
     "text": [
      "Anonymous ArcGIS Online login:\n",
      "--------------------------------------------------\n",
      "\tDefault Basemap: topo\n",
      "\tMap Center: [0, 0]\n",
      "\tMap Zoom Level: 2\n"
     ]
    }
   ],
   "source": [
    "print(\"Anonymous ArcGIS Online login:\")\n",
    "print(\"{:-<50}\".format(''))\n",
    "print(\"\\tDefault Basemap: {}\".format(map.basemap))\n",
    "print(\"\\tMap Center: {}\".format(map.center))\n",
    "print(\"\\tMap Zoom Level: {}\".format(map.zoom))"
   ]
  },
  {
   "cell_type": "code",
   "execution_count": 7,
   "metadata": {},
   "outputs": [
    {
     "name": "stdout",
     "output_type": "stream",
     "text": [
      "Enter password: ········\n",
      "Successfully logged in as: jgravois\n"
     ]
    },
    {
     "data": {
      "application/vnd.jupyter.widget-view+json": {
       "model_id": "001f20e0fae146519e1ff2807b9ea79f"
      }
     },
     "metadata": {},
     "output_type": "display_data"
    }
   ],
   "source": [
    "import getpass\n",
    "password = getpass.getpass(\"Enter password: \")\n",
    "                           \n",
    "#p_gis = GIS(<YOUR PORTAL HOME URL>, <USERNAME>, password, verify_cert=False)\n",
    "#set verify_cert to False if ssl errors are returned regarding security\n",
    "p_gis = GIS(\"https://www.arcgis.com\", \"jgravois\", password, verify_cert=False)\n",
    "\n",
    "# Entering a specific location and Zoom Level controls how the map draws\n",
    "p_map = p_gis.map(\"Cannon Beach, OR\", 12)\n",
    "print(\"Successfully logged in as: \" + p_gis.properties.user.username)\n",
    "p_map"
   ]
  },
  {
   "cell_type": "code",
   "execution_count": 8,
   "metadata": {
    "collapsed": true
   },
   "outputs": [],
   "source": [
    "p_map.zoom = 15\n",
    "p_map.height = '175px'\n",
    "p_map.center = [45.889332, -123.960452] # center needs to be a list of longitude, latitude coordinates"
   ]
  },
  {
   "cell_type": "code",
   "execution_count": null,
   "metadata": {
    "collapsed": true
   },
   "outputs": [],
   "source": []
  }
 ],
 "metadata": {
  "kernelspec": {
   "display_name": "Python 3",
   "language": "python",
   "name": "python3"
  },
  "language_info": {
   "codemirror_mode": {
    "name": "ipython",
    "version": 3
   },
   "file_extension": ".py",
   "mimetype": "text/x-python",
   "name": "python",
   "nbconvert_exporter": "python",
   "pygments_lexer": "ipython3",
   "version": "3.6.1"
  }
 },
 "nbformat": 4,
 "nbformat_minor": 2
}
