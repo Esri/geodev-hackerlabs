{
 "cells": [
  {
   "cell_type": "markdown",
   "metadata": {},
   "source": [
    "Test the Installation\n",
    "============\n",
    "\n",
    "See the README for installation requirements and instructions.\n",
    "\n",
    "The [ArcGIS API for Python](https://developers.arcgis.com/python) follows a pythonic modular design. Whether talking of ArcGIS Online or ArcGIS Enterprise on-premise or in the cloud, your GIS is represented with the argis.gis module.  The GIS class provides the information model from which you access all the tools to visualize, analyze, manage, and administer your GIS. \n",
    "\n",
    "Below we'll log into ArcGIS Online anonymously and access the module's map widget to investigate the default behavior. Run the cell to bring up the default map.\n",
    "\n",
    "Click the Open the Command Palette button on the Jupyter Notebook toolbar for instuctions on how to run a cell on the Operating System you use."
   ]
  },
  {
   "cell_type": "markdown",
   "metadata": {},
   "source": [
    "> Set the map to a variable for access later in the notebook."
   ]
  },
  {
   "cell_type": "code",
   "execution_count": 1,
   "metadata": {
    "collapsed": false
   },
   "outputs": [],
   "source": [
    "from arcgis.gis import GIS\n",
    "my_gis = GIS()\n",
    "map = my_gis.map()\n",
    "map"
   ]
  },
  {
   "cell_type": "markdown",
   "metadata": {},
   "source": [
    "#### Let's investigate some default properties when using the map widget this way:\n",
    "\n",
    "_Object dot notation accesses properties and methods. Type the object's name, followed by a dot, then the tab key to get a listing of all properties and methods on an object._"
   ]
  },
  {
   "cell_type": "code",
   "execution_count": 2,
   "metadata": {
    "collapsed": false,
    "scrolled": true
   },
   "outputs": [
    {
     "name": "stdout",
     "output_type": "stream",
     "text": [
      "Anonymous ArcGIS Online login:\n",
      "--------------------------------------------------\n",
      "\tDefault Basemap: topo\n",
      "\tMap Center: [0, 0]\n",
      "\tMap Zoom Level: 2\n"
     ]
    }
   ],
   "source": [
    "print(\"Anonymous ArcGIS Online login:\")\n",
    "print(\"{:-<50}\".format(''))\n",
    "print(\"\\tDefault Basemap: {}\".format(map.basemap))\n",
    "print(\"\\tMap Center: {}\".format(map.center))\n",
    "print(\"\\tMap Zoom Level: {}\".format(map.zoom))"
   ]
  },
  {
   "cell_type": "markdown",
   "metadata": {},
   "source": [
    "#### Let's investigate default properties when using the map widget logged into a Portal instance:\n",
    "Enter in the url to your own portal, your own ArcGIS Online Organization, or to https://www.arcgis.com to access your Map Viewer. An example is included to show formatting.\n",
    "\n",
    "> Use the getpass module to hide the password for your portal. You'll be prompted to enter your password after running the cell. Hit enter when completed typing password."
   ]
  },
  {
   "cell_type": "code",
   "execution_count": 3,
   "metadata": {
    "collapsed": false
   },
   "outputs": [
    {
     "name": "stdout",
     "output_type": "stream",
     "text": [
      "Enter password: ········\n",
      "Successfully logged in as: admin\n"
     ]
    }
   ],
   "source": [
    "import getpass\n",
    "password = getpass.getpass(\"Enter password: \")\n",
    "                           \n",
    "#p_gis = GIS(<YOUR PORTAL HOME URL>, <USERNAME>, password, verify_cert=False)\n",
    "#set verify_cert to False if ssl errors are returned regarding security\n",
    "p_gis = GIS(\"https://hadrian.esri.com/portal/home\", \"admin\", password, verify_cert=False)\n",
    "\n",
    "# Entering a specific location and Zoom Level controls how the map draws\n",
    "p_map = p_gis.map(\"Cannon Beach, OR\", 12)\n",
    "print(\"Successfully logged in as: \" + p_gis.properties.user.username)\n",
    "p_map"
   ]
  },
  {
   "cell_type": "markdown",
   "metadata": {},
   "source": [
    "#### Let's return some of the current properties of the map."
   ]
  },
  {
   "cell_type": "code",
   "execution_count": 4,
   "metadata": {
    "collapsed": false
   },
   "outputs": [
    {
     "name": "stdout",
     "output_type": "stream",
     "text": [
      "ArcGIS Portal Instance login:\n",
      "--------------------------------------------------\n",
      "\tDefault Basemap: topo\n",
      "\tMap Center: [45.891766464000455, -123.9615269789997]\n",
      "\tMap Zoom Level: 12\n"
     ]
    }
   ],
   "source": [
    "print(\"ArcGIS Portal Instance login:\")\n",
    "print(\"{:-<50}\".format(''))\n",
    "print(\"\\tDefault Basemap: {}\".format(p_map.basemap))\n",
    "print(\"\\tMap Center: {}\".format(p_map.center))\n",
    "print(\"\\tMap Zoom Level: {}\".format(p_map.zoom))"
   ]
  },
  {
   "cell_type": "markdown",
   "metadata": {},
   "source": [
    "#### Change some propoerties of the map and observe results."
   ]
  },
  {
   "cell_type": "code",
   "execution_count": 5,
   "metadata": {
    "collapsed": false
   },
   "outputs": [],
   "source": [
    "p_map.zoom = 15\n",
    "p_map.height = '175px'\n",
    "p_map.center = [45.889332, -123.960452] # center needs to be a list of longitude, latitude coordinates"
   ]
  },
  {
   "cell_type": "markdown",
   "metadata": {},
   "source": [
    "#### This exercise demonstrated how to represent a portal and load a map with the ArcGIS API for Python. Subsequent labs will demonstrate additional functionality.\n",
    "\n",
    "To inspect the output, open the Step 1 - loading the gis map widget.html in your browser.\n",
    "\n",
    "**NOTE:** Maps do not show in the html output. You'll have to download the repo and run the notebooks to produce that output."
   ]
  }
 ],
 "metadata": {
  "anaconda-cloud": {},
  "kernelspec": {
   "display_name": "Python [default]",
   "language": "python",
   "name": "python3"
  },
  "language_info": {
   "codemirror_mode": {
    "name": "ipython",
    "version": 3
   },
   "file_extension": ".py",
   "mimetype": "text/x-python",
   "name": "python",
   "nbconvert_exporter": "python",
   "pygments_lexer": "ipython3",
   "version": "3.5.3"
  },
  "widgets": {
   "state": {
    "a63c4045dbe342a3ab50b9e3dafcc09f": {
     "views": [
      {
       "cell_index": 6
      }
     ]
    },
    "e73fc9ed4f4d4f9e97431b70b8e31328": {
     "views": [
      {
       "cell_index": 2
      }
     ]
    }
   },
   "version": "1.2.0"
  }
 },
 "nbformat": 4,
 "nbformat_minor": 1
}
