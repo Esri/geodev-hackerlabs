{
 "cells": [
  {
   "cell_type": "code",
   "execution_count": 2,
   "metadata": {},
   "outputs": [
    {
     "name": "stdout",
     "output_type": "stream",
     "text": [
      "Enter your ArcGIS Organizational or Developer Account Password: ········\n",
      "Logged in successfully to edn.maps.arcgis.com as jgravois.\n"
     ]
    }
   ],
   "source": [
    "from arcgis.gis import GIS\n",
    "import getpass\n",
    "\n",
    "password = getpass.getpass(\"Enter your ArcGIS Organizational or Developer Account Password: \")\n",
    "gis = GIS(\"https://www.arcgis.com\", \"jgravois\", password)\n",
    "print(\"Logged in successfully to {} as {}.\".format(gis.properties.urlKey + '.' + gis.properties.customBaseUrl, \\\n",
    "                                                   gis.users.me.username))"
   ]
  },
  {
   "cell_type": "code",
   "execution_count": 21,
   "metadata": {},
   "outputs": [
    {
     "data": {
      "application/vnd.jupyter.widget-view+json": {
       "model_id": "a221b7eafe224695b4a2e2789d852c5e"
      }
     },
     "metadata": {},
     "output_type": "display_data"
    }
   ],
   "source": [
    "from IPython.display import display\n",
    "\n",
    "map = gis.map(\"Springfield, IL\", 12)\n",
    "map"
   ]
  },
  {
   "cell_type": "code",
   "execution_count": 6,
   "metadata": {},
   "outputs": [
    {
     "name": "stdout",
     "output_type": "stream",
     "text": [
      "jgravois has access to 5 feature service items.\n"
     ]
    }
   ],
   "source": [
    "feat_services = gis.content.search(query=\"title:Church*\", item_type=\"Feature Service\", max_items=5, outside_org='true')\n",
    "print(\"{} has access to {} feature service items.\".format(gis.users.me.username, len(feat_services)))"
   ]
  },
  {
   "cell_type": "code",
   "execution_count": 7,
   "metadata": {},
   "outputs": [
    {
     "name": "stdout",
     "output_type": "stream",
     "text": [
      "Other churches is a <class 'arcgis.gis.Item'>.\n",
      "\thttp://services1.arcgis.com/O2LesHc3TabFg7Qs/arcgis/rest/services/Other_churches/FeatureServer\n",
      "Church rock uranium monitoring project (crump) water samples is a <class 'arcgis.gis.Item'>.\n",
      "\thttp://services.arcgis.com/LGtNQDlIZBdntoA9/arcgis/rest/services/Church_Rock_Uranium_Monitoring_Project_(CRUMP)_Water_Samples/FeatureServer\n",
      "Hardin county churches is a <class 'arcgis.gis.Item'>.\n",
      "\thttp://services1.arcgis.com/fYwcHOBzInDTQxh0/arcgis/rest/services/Hardin_County_Churches/FeatureServer\n",
      "Churchill_truview_scans_2015_0515 is a <class 'arcgis.gis.Item'>.\n",
      "\thttps://services.arcgis.com/w0K9MAswvUFWyjPZ/arcgis/rest/services/Churchill_TruView_Scans_2015_0515/FeatureServer\n",
      "Catholic churches is a <class 'arcgis.gis.Item'>.\n",
      "\thttps://services2.arcgis.com/1cdV1mIckpAyI7Wo/arcgis/rest/services/Catholic_Churches/FeatureServer\n"
     ]
    }
   ],
   "source": [
    "for feat_svc in feat_services:\n",
    "    print(\"{} is a {}.\".format(feat_svc.title.capitalize(), type(feat_svc)))\n",
    "    print(\"\\t{}\".format(feat_svc.url))"
   ]
  },
  {
   "cell_type": "code",
   "execution_count": 22,
   "metadata": {},
   "outputs": [
    {
     "data": {
      "text/html": [
       "<div class=\"item_container\" style=\"height: auto; overflow: hidden; border: 1px solid #cfcfcf; border-radius: 2px; background: #f6fafa; line-height: 1.21429em; padding: 10px;\">\n",
       "                    <div class=\"item_left\" style=\"width: 210px; float: left;\">\n",
       "                       <a href='https://www.arcgis.com/home/item.html?id=a4d355e48c44422b96cbea8d71f43930' target='_blank'>\n",
       "                        <img src='data:image/png;base64,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' width='200' height='133' class=\"itemThumbnail\">\n",
       "                       </a>\n",
       "                    </div>\n",
       "\n",
       "                    <div class=\"item_right\"     style=\"float: none; width: auto; overflow: hidden;\">\n",
       "                        <a href='https://www.arcgis.com/home/item.html?id=a4d355e48c44422b96cbea8d71f43930' target='_blank'><b>Catholic Churches</b>\n",
       "                        </a>\n",
       "                        <br/>Homeland Security Use Cases: Use cases describe how the data may be used and help to define and clarify requirements. 1. A disaster or health emergency has occurred, or is predicted for a locality. Places of worship or congregations that may be affected must be identified. 2. An assessment as to the evacuation needs and issues for a given area needs to be made as part of a disaster mitigation plan. Places of worship that may need to be evacuated must be identified. 3. Facilities that can serve as shelters must be identified. 4. A threat has been made toward places of worship and other religious institutions. These locations need to be identified, their leadership contacted, and their buildings protected.<img src='https://www.arcgis.com/home/js/jsapi/esri/css/images/item_type_icons/featureshosted16.png' style=\"vertical-align:middle;\">Feature Layer Collection by HIFLD_Admin\n",
       "                        <br/>Last Modified: May 30, 2017\n",
       "                        <br/>0 comments, 1,274 views\n",
       "                    </div>\n",
       "                </div>\n",
       "                "
      ],
      "text/plain": [
       "<Item title:\"Catholic Churches\" type:Feature Service owner:HIFLD_Admin>"
      ]
     },
     "execution_count": 22,
     "metadata": {},
     "output_type": "execute_result"
    }
   ],
   "source": [
    "catholic_churches = feat_services[4]\n",
    "catholic_churches"
   ]
  },
  {
   "cell_type": "code",
   "execution_count": 23,
   "metadata": {
    "collapsed": true
   },
   "outputs": [],
   "source": [
    "map.add_layer(catholic_churches)"
   ]
  }
 ],
 "metadata": {
  "kernelspec": {
   "display_name": "Python 3",
   "language": "python",
   "name": "python3"
  },
  "language_info": {
   "codemirror_mode": {
    "name": "ipython",
    "version": 3
   },
   "file_extension": ".py",
   "mimetype": "text/x-python",
   "name": "python",
   "nbconvert_exporter": "python",
   "pygments_lexer": "ipython3",
   "version": "3.6.1"
  }
 },
 "nbformat": 4,
 "nbformat_minor": 2
}
